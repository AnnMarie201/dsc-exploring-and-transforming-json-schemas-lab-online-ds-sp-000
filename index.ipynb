{
 "cells": [
  {
   "cell_type": "markdown",
   "metadata": {},
   "source": [
    "# Exploring and Transforming JSON Schemas"
   ]
  },
  {
   "cell_type": "markdown",
   "metadata": {},
   "source": [
    "# Introduction\n",
    "\n",
    "In this lesson, you'll formalize how to explore a JSON file whose structure and schema is unknown to you. This often happens in practice when you are handed a file or stumble upon one with little documentation."
   ]
  },
  {
   "cell_type": "markdown",
   "metadata": {},
   "source": [
    "## Objectives\n",
    "You will be able to:\n",
    "* Use the JSON module to load and parse JSON documents\n",
    "* Load and explore unknown JSON schemas\n",
    "* Convert JSON to a pandas dataframe"
   ]
  },
  {
   "cell_type": "markdown",
   "metadata": {},
   "source": [
    "## Loading the JSON file\n",
    "\n",
    "Load the data from the file `disease_data.json`."
   ]
  },
  {
   "cell_type": "code",
   "execution_count": 1,
   "metadata": {},
   "outputs": [],
   "source": [
    "#Your code here \n",
    "import json\n",
    "f = open('disease_data.json', 'r')\n",
    "data = json.load(f)\n"
   ]
  },
  {
   "cell_type": "markdown",
   "metadata": {},
   "source": [
    "## Explore the first and second levels of the schema hierarchy"
   ]
  },
  {
   "cell_type": "code",
   "execution_count": 21,
   "metadata": {},
   "outputs": [
    {
     "name": "stdout",
     "output_type": "stream",
     "text": [
      "meta : <class 'dict'>\n",
      "data : <class 'list'>\n",
      "dict_keys(['view'])\n"
     ]
    }
   ],
   "source": [
    "#Your code here\n",
    "type(data)\n",
    "for key in data.keys():\n",
    "    print(key,':', type(data[key]))\n",
    "print(data['meta'].keys())"
   ]
  },
  {
   "cell_type": "markdown",
   "metadata": {},
   "source": [
    "## Convert to a DataFrame\n",
    "\n",
    "Create a DataFrame from the JSON file. Be sure to retrive the column names for the dataframe. (Search within the 'meta' key of the master dictionary.) The DataFrame should include all 42 columns."
   ]
  },
  {
   "cell_type": "code",
   "execution_count": 39,
   "metadata": {},
   "outputs": [
    {
     "name": "stdout",
     "output_type": "stream",
     "text": [
      "   sid                                    id  position  created_at  \\\n",
      "0    1  FF49C41F-CE8D-46C4-9164-653B1227CF6F         1  1527194521   \n",
      "1    2  F4468C3D-340A-4CD2-84A3-DF554DFF065E         2  1527194521   \n",
      "2    3  65609156-A343-4869-B03F-2BA62E96AC19         3  1527194521   \n",
      "3    4  0DB09B00-EFEB-4AC0-9467-A7CBD2B57BF3         4  1527194521   \n",
      "4    5  D98DA5BA-6FD6-40F5-A9B1-ABD45E44967B         5  1527194521   \n",
      "\n",
      "  created_meta  updated_at updated_meta  meta YearStart YearEnd  \\\n",
      "0       959778  1527194521       959778  None      2016    2016   \n",
      "1       959778  1527194521       959778  None      2016    2016   \n",
      "2       959778  1527194521       959778  None      2016    2016   \n",
      "3       959778  1527194521       959778  None      2016    2016   \n",
      "4       959778  1527194521       959778  None      2016    2016   \n",
      "\n",
      "         ...        LocationID TopicID QuestionID DataValueTypeID  \\\n",
      "0        ...                59     ALC     ALC2_2         CRDPREV   \n",
      "1        ...                01     ALC     ALC2_2         CRDPREV   \n",
      "2        ...                02     ALC     ALC2_2         CRDPREV   \n",
      "3        ...                04     ALC     ALC2_2         CRDPREV   \n",
      "4        ...                05     ALC     ALC2_2         CRDPREV   \n",
      "\n",
      "  StratificationCategoryID1 StratificationID1 StratificationCategoryID2  \\\n",
      "0                   OVERALL               OVR                      None   \n",
      "1                   OVERALL               OVR                      None   \n",
      "2                   OVERALL               OVR                      None   \n",
      "3                   OVERALL               OVR                      None   \n",
      "4                   OVERALL               OVR                      None   \n",
      "\n",
      "  StratificationID2 StratificationCategoryID3 StratificationID3  \n",
      "0              None                      None              None  \n",
      "1              None                      None              None  \n",
      "2              None                      None              None  \n",
      "3              None                      None              None  \n",
      "4              None                      None              None  \n",
      "\n",
      "[5 rows x 42 columns]\n",
      "  cachedContents dataTypeName description      fieldName     flags format  id  \\\n",
      "0            NaN    meta_data         NaN           :sid  [hidden]     {}  -1   \n",
      "1            NaN    meta_data         NaN            :id  [hidden]     {}  -1   \n",
      "2            NaN    meta_data         NaN      :position  [hidden]     {}  -1   \n",
      "3            NaN    meta_data         NaN    :created_at  [hidden]     {}  -1   \n",
      "4            NaN    meta_data         NaN  :created_meta  [hidden]     {}  -1   \n",
      "\n",
      "           name  position renderTypeName subColumnTypes  tableColumnId  width  \n",
      "0           sid         0      meta_data            NaN            NaN    NaN  \n",
      "1            id         0      meta_data            NaN            NaN    NaN  \n",
      "2      position         0      meta_data            NaN            NaN    NaN  \n",
      "3    created_at         0      meta_data            NaN            NaN    NaN  \n",
      "4  created_meta         0      meta_data            NaN            NaN    NaN  \n"
     ]
    }
   ],
   "source": [
    "#Your code here\n",
    "import pandas as pd\n",
    "df = pd.DataFrame(data['data'])\n",
    "df.columns = [item['name'] for item in data['meta']['view']['columns']]\n",
    "print(df.head())\n",
    "\n",
    "dfcols= pd.DataFrame(data['meta']['view']['columns'])\n",
    "print(dfcols.head())\n"
   ]
  },
  {
   "cell_type": "markdown",
   "metadata": {},
   "source": [
    "## Level-Up\n",
    "## Create a bar graph of states with the highest asthma rates for adults age 18+"
   ]
  },
  {
   "cell_type": "markdown",
   "metadata": {},
   "source": [
    "## Summary\n",
    "\n",
    "Well done! In this lab you got some extended practice exploring the structure of JSON files, converting json files to pandas DataFrame, and visualizing data!"
   ]
  }
 ],
 "metadata": {
  "kernelspec": {
   "display_name": "Python 3",
   "language": "python",
   "name": "python3"
  },
  "language_info": {
   "codemirror_mode": {
    "name": "ipython",
    "version": 3
   },
   "file_extension": ".py",
   "mimetype": "text/x-python",
   "name": "python",
   "nbconvert_exporter": "python",
   "pygments_lexer": "ipython3",
   "version": "3.6.6"
  },
  "toc": {
   "base_numbering": 1,
   "nav_menu": {},
   "number_sections": true,
   "sideBar": true,
   "skip_h1_title": false,
   "title_cell": "Table of Contents",
   "title_sidebar": "Contents",
   "toc_cell": false,
   "toc_position": {},
   "toc_section_display": true,
   "toc_window_display": false
  }
 },
 "nbformat": 4,
 "nbformat_minor": 2
}
